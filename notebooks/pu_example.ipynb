{
 "cells": [
  {
   "cell_type": "code",
   "execution_count": 94,
   "metadata": {},
   "outputs": [],
   "source": [
    "%%capture\n",
    "%run ../pu_wrapper.py"
   ]
  },
  {
   "cell_type": "code",
   "execution_count": 169,
   "metadata": {},
   "outputs": [],
   "source": [
    "import numpy as np\n",
    "import sklearn.datasets as datasets\n",
    "from matplotlib import pyplot as plt\n",
    "from pandas import DataFrame\n",
    "import seaborn as sns\n",
    "from sklearn.linear_model import LogisticRegressionCV\n",
    "from sklearn.svm import SVC\n",
    "from sklearn.ensemble import RandomForestClassifier\n",
    "from sklearn.ensemble import GradientBoostingClassifier\n",
    "from sklearn.metrics import accuracy_score, f1_score\n",
    "from ipywidgets import interact, interactive, fixed, interact_manual\n",
    "from sklearn.model_selection import train_test_split\n",
    "\n",
    "sns.set(rc={'figure.figsize':(12,8)})"
   ]
  },
  {
   "cell_type": "code",
   "execution_count": 134,
   "metadata": {},
   "outputs": [],
   "source": [
    "def plot(x, y):\n",
    "    df = DataFrame(dict(x=x[:,0], y=x[:,1], label=y))\n",
    "    colors = {1:'red', 0:'blue'}\n",
    "    fig, ax = pyplot.subplots()\n",
    "    grouped = df.groupby('label')\n",
    "    for key, group in grouped:\n",
    "        group.plot(ax=ax, kind='scatter', x='x', y='y', label=key, color=colors[key])\n",
    "    pyplot.show()\n",
    "\n",
    "def make_meshgrid(x, y, h=.02):\n",
    "    x_min, x_max = x.min() - 1, x.max() + 1\n",
    "    y_min, y_max = y.min() - 1, y.max() + 1\n",
    "    xx, yy = np.meshgrid(np.arange(x_min, x_max, h), np.arange(y_min, y_max, h))\n",
    "    return xx, yy\n",
    "\n",
    "def plot_decision_helper(ax, clf, x, y, index, title):\n",
    "    clf.fit(x, y)\n",
    "    \n",
    "    X0, X1 = x[:, 0], x[:, 1]\n",
    "    xx, yy = make_meshgrid(X0, X1)\n",
    "    \n",
    "    Z = clf.predict(np.c_[xx.ravel(), yy.ravel()])\n",
    "    Z = Z.reshape(xx.shape)\n",
    "    ax[index].contourf(xx, yy, Z)\n",
    "    \n",
    "    ax[index].scatter(X0, X1, c=y, cmap=plt.cm.coolwarm, s=20, edgecolors='k')\n",
    "    ax[index].set_ylabel('y')\n",
    "    ax[index].set_xlabel('x')\n",
    "    ax[index].set_title(title)\n",
    "    \n",
    "\n",
    "def plot_decision_function(clf, x, y, holdout, params):\n",
    "    fig, ax = plt.subplots(1, 2)\n",
    "    \n",
    "    plot_decision_helper(ax, clf(**params), x, y, 0, \"Vanilla\")\n",
    "    plot_decision_helper(ax, PuWrapper(clf(**params), holdout), x, y, 1, \"PU\")"
   ]
  },
  {
   "cell_type": "markdown",
   "metadata": {},
   "source": [
    "## SVM"
   ]
  },
  {
   "cell_type": "markdown",
   "metadata": {},
   "source": [
    "**Circles**"
   ]
  },
  {
   "cell_type": "code",
   "execution_count": 135,
   "metadata": {
    "scrolled": false
   },
   "outputs": [
    {
     "data": {
      "application/vnd.jupyter.widget-view+json": {
       "model_id": "ed93466a0b54414bb18494d1ff7e4222",
       "version_major": 2,
       "version_minor": 0
      },
      "text/plain": [
       "interactive(children=(IntSlider(value=500, description='n_samples', max=1000, min=10, step=10), FloatSlider(va…"
      ]
     },
     "metadata": {},
     "output_type": "display_data"
    }
   ],
   "source": [
    "def test_circles(n_samples, noise, holdout):\n",
    "    circles_params = {\n",
    "        \"n_samples\": n_samples,\n",
    "        \"noise\": noise\n",
    "    }\n",
    "\n",
    "    x, y = datasets.make_circles(**circles_params)\n",
    "    plot(x, y)\n",
    "\n",
    "    plot_decision_function(SVC, x, y, holdout, {\"kernel\": \"rbf\", \"probability\": True})\n",
    "\n",
    "interact(test_circles, n_samples=(10, 1000, 10), noise=(0.0, 1.0, 0.01), holdout=(0.0, 1.0, 0.01));"
   ]
  },
  {
   "cell_type": "markdown",
   "metadata": {},
   "source": [
    "**Classification blobs**"
   ]
  },
  {
   "cell_type": "code",
   "execution_count": 145,
   "metadata": {
    "scrolled": false
   },
   "outputs": [
    {
     "data": {
      "application/vnd.jupyter.widget-view+json": {
       "model_id": "28c0b402d4c949718f06fa6f278307ce",
       "version_major": 2,
       "version_minor": 0
      },
      "text/plain": [
       "interactive(children=(IntSlider(value=5000, description='n_samples', max=10000, min=10, step=10), FloatSlider(…"
      ]
     },
     "metadata": {},
     "output_type": "display_data"
    }
   ],
   "source": [
    "def test_classification(n_samples, weights, holdout):\n",
    "    classification_params = {\n",
    "        \"n_samples\": n_samples,\n",
    "        \"n_features\": 2,\n",
    "        \"n_informative\": 2,\n",
    "        \"n_redundant\": 0,\n",
    "        \"n_repeated\": 0,\n",
    "        \"weights\": (weights,)\n",
    "    }\n",
    "\n",
    "    x, y = datasets.make_classification(**classification_params)\n",
    "    plot(x, y)\n",
    "\n",
    "    plot_decision_function(SVC, x, y, holdout, {\"kernel\": \"rbf\", \"probability\": True})\n",
    "\n",
    "interact(test_classification, n_samples=(10, 10000, 10), weights=(0.01, 0.99, 0.01), holdout=(0.0, 1.0, 0.01));"
   ]
  },
  {
   "cell_type": "markdown",
   "metadata": {},
   "source": [
    "**Moons**"
   ]
  },
  {
   "cell_type": "code",
   "execution_count": 148,
   "metadata": {},
   "outputs": [
    {
     "data": {
      "application/vnd.jupyter.widget-view+json": {
       "model_id": "c9b98487255f4a2cbbafb80c407d3496",
       "version_major": 2,
       "version_minor": 0
      },
      "text/plain": [
       "interactive(children=(IntSlider(value=2500, description='n_samples', max=5000, min=10, step=10), FloatSlider(v…"
      ]
     },
     "metadata": {},
     "output_type": "display_data"
    }
   ],
   "source": [
    "def test_moons(n_samples, noise, holdout):\n",
    "    moons_params = {\n",
    "        \"n_samples\": n_samples,\n",
    "        \"noise\": noise,\n",
    "        \"random_state\": 30\n",
    "    }\n",
    "\n",
    "    x, y = datasets.make_moons(**moons_params)\n",
    "    plot(x, y)\n",
    "\n",
    "    plot_decision_function(SVC, x, y, holdout, {\"kernel\": \"rbf\", \"probability\": True})\n",
    "\n",
    "interact(test_moons, n_samples=(10, 5000, 10), noise=(0.01, 0.99, 0.01), holdout=(0.0, 1.0, 0.01));"
   ]
  },
  {
   "cell_type": "markdown",
   "metadata": {},
   "source": [
    "## Random forest"
   ]
  },
  {
   "cell_type": "markdown",
   "metadata": {},
   "source": [
    "**Circles**"
   ]
  },
  {
   "cell_type": "code",
   "execution_count": 154,
   "metadata": {
    "scrolled": false
   },
   "outputs": [
    {
     "data": {
      "application/vnd.jupyter.widget-view+json": {
       "model_id": "bf0b90cc17204ce3ae3c201c6a618199",
       "version_major": 2,
       "version_minor": 0
      },
      "text/plain": [
       "interactive(children=(IntSlider(value=2460, description='n_samples', max=5000, min=10, step=50), FloatSlider(v…"
      ]
     },
     "metadata": {},
     "output_type": "display_data"
    }
   ],
   "source": [
    "def test_circles(n_samples, noise, holdout):\n",
    "    circles_params = {\n",
    "        \"n_samples\": n_samples,\n",
    "        \"noise\": noise\n",
    "    }\n",
    "\n",
    "    x, y = datasets.make_circles(**circles_params)\n",
    "    plot(x, y)\n",
    "\n",
    "    plot_decision_function(RandomForestClassifier, x, y, holdout, {\"n_estimators\": 50, \"max_depth\": 10})\n",
    "\n",
    "interact(test_circles, n_samples=(10, 5000, 50), noise=(0.0, 1.0, 0.01), holdout=(0.0, 1.0, 0.01));"
   ]
  },
  {
   "cell_type": "code",
   "execution_count": 158,
   "metadata": {
    "scrolled": false
   },
   "outputs": [
    {
     "data": {
      "application/vnd.jupyter.widget-view+json": {
       "model_id": "7c1e99e8a68c4aaa91b5ae63a4a5a1cc",
       "version_major": 2,
       "version_minor": 0
      },
      "text/plain": [
       "interactive(children=(IntSlider(value=5000, description='n_samples', max=10000, min=10, step=10), FloatSlider(…"
      ]
     },
     "metadata": {},
     "output_type": "display_data"
    }
   ],
   "source": [
    "def test_classification(n_samples, weights, holdout):\n",
    "    classification_params = {\n",
    "        \"n_samples\": n_samples,\n",
    "        \"n_features\": 2,\n",
    "        \"n_informative\": 2,\n",
    "        \"n_redundant\": 0,\n",
    "        \"n_repeated\": 0,\n",
    "        \"weights\": (weights,)\n",
    "    }\n",
    "\n",
    "    x, y = datasets.make_classification(**classification_params)\n",
    "    plot(x, y)\n",
    "\n",
    "    plot_decision_function(RandomForestClassifier, x, y, holdout, {\"n_estimators\": 50, \"max_depth\": 5})\n",
    "\n",
    "interact(test_classification, n_samples=(10, 10000, 10), weights=(0.01, 0.99, 0.01), holdout=(0.0, 1.0, 0.01));"
   ]
  },
  {
   "cell_type": "markdown",
   "metadata": {},
   "source": [
    "## Gradient boosting"
   ]
  },
  {
   "cell_type": "code",
   "execution_count": 161,
   "metadata": {
    "scrolled": false
   },
   "outputs": [
    {
     "data": {
      "application/vnd.jupyter.widget-view+json": {
       "model_id": "592f5e31c9c34b1598c516afca867f68",
       "version_major": 2,
       "version_minor": 0
      },
      "text/plain": [
       "interactive(children=(IntSlider(value=2460, description='n_samples', max=5000, min=10, step=50), FloatSlider(v…"
      ]
     },
     "metadata": {},
     "output_type": "display_data"
    }
   ],
   "source": [
    "def test_circles(n_samples, noise, holdout):\n",
    "    circles_params = {\n",
    "        \"n_samples\": n_samples,\n",
    "        \"noise\": noise\n",
    "    }\n",
    "\n",
    "    x, y = datasets.make_circles(**circles_params)\n",
    "    plot(x, y)\n",
    "\n",
    "    plot_decision_function(GradientBoostingClassifier, x, y, holdout, {\"n_estimators\": 50, \"max_depth\": 5})\n",
    "\n",
    "interact(test_circles, n_samples=(10, 5000, 50), noise=(0.0, 1.0, 0.01), holdout=(0.0, 1.0, 0.01));"
   ]
  }
 ],
 "metadata": {
  "kernelspec": {
   "display_name": "Python 3",
   "language": "python",
   "name": "python3"
  },
  "language_info": {
   "codemirror_mode": {
    "name": "ipython",
    "version": 3
   },
   "file_extension": ".py",
   "mimetype": "text/x-python",
   "name": "python",
   "nbconvert_exporter": "python",
   "pygments_lexer": "ipython3",
   "version": "3.7.6"
  }
 },
 "nbformat": 4,
 "nbformat_minor": 2
}
